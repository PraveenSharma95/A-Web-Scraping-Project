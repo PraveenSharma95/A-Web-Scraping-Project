{
 "cells": [
  {
   "cell_type": "markdown",
   "id": "e0a4d03f",
   "metadata": {},
   "source": [
    "## WEB SCRAPING : *1 - mg (Homeopathic) *"
   ]
  },
  {
   "cell_type": "markdown",
   "id": "bae732ca",
   "metadata": {},
   "source": [
    "### Importing Libraries ...\n"
   ]
  },
  {
   "cell_type": "code",
   "execution_count": 1,
   "id": "4b6253ae",
   "metadata": {},
   "outputs": [],
   "source": [
    "# Importing Libraries\n",
    "import pandas as pd\n",
    "import time\n",
    "import selenium\n",
    "from selenium import webdriver as wb"
   ]
  },
  {
   "cell_type": "markdown",
   "id": "e6d82d2a",
   "metadata": {},
   "source": [
    "### Opening an Automated Chrome Browser"
   ]
  },
  {
   "cell_type": "code",
   "execution_count": 2,
   "id": "522e16df",
   "metadata": {},
   "outputs": [],
   "source": [
    "# Opening an automated chrome browser :\n",
    "\n",
    "driver = wb.Chrome()\n",
    "\n",
    "# Maximizing the Autometed Window :\n",
    "driver.maximize_window() \n",
    "time.sleep(3)\n",
    "\n",
    "# Hitting the 1-mg website in autometed chrome :\n",
    "driver.get('https://www.1mg.com/categories/homeopathy-57?filter=true&pageNumber=1')\n",
    "time.sleep(3)\n",
    "\n"
   ]
  },
  {
   "cell_type": "markdown",
   "id": "d347d19d",
   "metadata": {},
   "source": [
    "### DEFINING VARIABLES TO STORE THE SCRAPED DATA\n"
   ]
  },
  {
   "cell_type": "code",
   "execution_count": null,
   "id": "1e2452af",
   "metadata": {},
   "outputs": [],
   "source": [
    "# defining our list - dataset will be stored here :\n",
    "data = []\n",
    "\n",
    "# Defining a Empty Dictionary To store the data\n",
    "table_1 = {\n",
    "            \"name\":\"not found\",\n",
    "            \"size_of_the_bottle \" : \"not found\",\n",
    "            \"MRP_of_the_bottle\":\"not found\",\n",
    "            \"price_of_the_bottle\":\"not found\",\n",
    "            \"1mg_url\":\"not found\",\n",
    "            \n",
    "            }"
   ]
  },
  {
   "cell_type": "markdown",
   "id": "3ca1f06d",
   "metadata": {},
   "source": [
    "### SCRAPING THE DATA FOR A SINGLE PAGE"
   ]
  },
  {
   "cell_type": "code",
   "execution_count": null,
   "id": "4ad62a75",
   "metadata": {},
   "outputs": [],
   "source": [
    "# Function for Scrapping the Data For a Single-Page\n",
    "\n",
    "def Scrape_One_Page_Data():\n",
    "    \n",
    "    # This Loop will scrape the Diffrent Jobs:\n",
    "    for i in range(1,53):\n",
    "        \n",
    "        try:\n",
    "            # This Click will Iterate through diffrent jobs and scrape data :\n",
    "            first = obj.find_element('xpath', '/html/body/div[2]/div[1]/div/div/div/div/div/div/div[2]/div[2]/div[1]/div')\n",
    "            time.sleep(2)\n",
    "            first.click()\n",
    "            \n",
    "            # Giving the time to load the data \n",
    "            time.sleep(4)\n",
    "            \n",
    "            # Extracting the Title of the job :\n",
    "            try:\n",
    "                title = obj.find_element('xpath', '/html/body/div[5]/div[3]/div[4]/div/div/main/div/section[2]/div/div[2]/div[1]/div/div[1]/div/div[1]/div[1]/a/h2')\n",
    "                \n",
    "                # Extracting only the Text part :\n",
    "                temp[\"title\"] = title.text\n",
    "            except:\n",
    "                pass\n",
    "            \n",
    "            # Extracting numbers of Followers of a company :\n",
    "            try:\n",
    "                followers = obj.find_element('xpath','/html/body/div[5]/div[3]/div[4]/div/div/main/div/section[2]/div/div[2]/div[1]/div/section/section/div[1]/div[1]/div/div[2]/div[2]')\n",
    "                \n",
    "                # Extracting only the Text part :\n",
    "                temp[\"followers\"] = followers.text\n",
    "            except:\n",
    "                pass\n",
    "            \n",
    "            # Extracting number of Applicants applied for that Particular Job :\n",
    "            try:\n",
    "                applicant = obj.find_element('xpath', '/html/body/div[5]/div[3]/div[4]/div/div/main/div/section[2]/div/div[2]/div[1]/div/div[1]/div/div[1]/div[1]/div[1]/span[2]/span[2]/span')\n",
    "                \n",
    "                # Extracting only the Text part :\n",
    "                temp[\"applicant\"] = applicant.text\n",
    "            except:\n",
    "                pass\n",
    "            \n",
    "            # Extracting the Level of the Job whether (entry, associate, manager, etc) :\n",
    "            try:\n",
    "                ttype = obj.find_element('xpath', '/html/body/div[5]/div[3]/div[4]/div/div/main/div/section[2]/div/div[2]/div[1]/div/div[1]/div/div[1]/div[1]/div[2]/ul/li[1]/span')\n",
    "                \n",
    "                # Extracting only the Text part :\n",
    "                temp[\"ttype\"] = ttype.text\n",
    "            except:\n",
    "                pass\n",
    "            \n",
    "            # Extracting the name of the Company :\n",
    "            try:\n",
    "                company = obj.find_element('xpath', '/html/body/div[5]/div[3]/div[4]/div/div/main/div/section[2]/div/div[2]/div[1]/div/div[1]/div/div[1]/div[1]/div[1]/span[1]/span[1]/a')\n",
    "                \n",
    "                # Extracting only the Text part :\n",
    "                temp[\"company\"] = company.text\n",
    "            except:\n",
    "                pass\n",
    "            \n",
    "            # Extracting the Location where the job is based :\n",
    "            try:\n",
    "                location = obj.find_element('xpath', '/html/body/div[5]/div[3]/div[4]/div/div/main/div/section[2]/div/div[2]/div[1]/div/div[1]/div/div[1]/div[1]/div[1]/span[1]/span[2]')\n",
    "                \n",
    "                # Extracting only the Text part :\n",
    "                temp[\"location\"] = location.text\n",
    "            except:\n",
    "                pass\n",
    "            \n",
    "            # Extracting the number of Employees that works in that Company :\n",
    "            try:\n",
    "                emp = obj.find_element('xpath', '/html/body/div[5]/div[3]/div[4]/div/div/main/div/section[2]/div/div[2]/div[1]/div/div[1]/div/div[1]/div[1]/div[2]/ul/li[2]/span')\n",
    "                \n",
    "                # Extracting only the Text part :\n",
    "                temp[\"emp\"] = emp.text\n",
    "            except:\n",
    "                pass\n",
    "            \n",
    "            # Extracting the type of the Industry that company belong-to :\n",
    "            try:\n",
    "                industry = obj.find_element('xpath', '/html/body/div[1]/div/section/div[2]/div/section[1]/div/ul/li[4]/span')\n",
    "                \n",
    "                # Extracting only the Text part :\n",
    "                temp[\"Inudstry\"] = industry.text\n",
    "            except:\n",
    "                pass\n",
    "            \n",
    "            # Extracting the Involment required for the job (full-time or partime, etc) :\n",
    "            try:\n",
    "                invol = obj.find_element('xpath', '/html/body/div[1]/div/section/div[2]/div/section[1]/div/ul/li[2]/span')\n",
    "                \n",
    "                # Extracting only the Text part :\n",
    "                temp[\"Involment\"] = invol.text\n",
    "            except:\n",
    "                pass\n",
    "            \n",
    "\n",
    "            # Appending our scraped data to our main list :\n",
    "            data.append(temp)\n",
    "\n",
    "        except:\n",
    "            pass"
   ]
  },
  {
   "cell_type": "code",
   "execution_count": null,
   "id": "47e1e5c5",
   "metadata": {},
   "outputs": [],
   "source": []
  },
  {
   "cell_type": "code",
   "execution_count": null,
   "id": "310ab5b8",
   "metadata": {},
   "outputs": [],
   "source": []
  },
  {
   "cell_type": "code",
   "execution_count": null,
   "id": "41f38360",
   "metadata": {},
   "outputs": [],
   "source": []
  },
  {
   "cell_type": "code",
   "execution_count": null,
   "id": "b2059011",
   "metadata": {},
   "outputs": [],
   "source": []
  },
  {
   "cell_type": "code",
   "execution_count": null,
   "id": "91d0307a",
   "metadata": {},
   "outputs": [],
   "source": []
  },
  {
   "cell_type": "code",
   "execution_count": null,
   "id": "02516d54",
   "metadata": {},
   "outputs": [],
   "source": []
  },
  {
   "cell_type": "code",
   "execution_count": null,
   "id": "e4671559",
   "metadata": {},
   "outputs": [],
   "source": []
  },
  {
   "cell_type": "code",
   "execution_count": null,
   "id": "2fd21240",
   "metadata": {},
   "outputs": [],
   "source": []
  },
  {
   "cell_type": "code",
   "execution_count": null,
   "id": "4ff8c2e5",
   "metadata": {},
   "outputs": [],
   "source": []
  },
  {
   "cell_type": "code",
   "execution_count": null,
   "id": "2a84b551",
   "metadata": {},
   "outputs": [],
   "source": []
  },
  {
   "cell_type": "code",
   "execution_count": null,
   "id": "ab23e2cb",
   "metadata": {},
   "outputs": [],
   "source": []
  },
  {
   "cell_type": "code",
   "execution_count": null,
   "id": "a81caf1a",
   "metadata": {},
   "outputs": [],
   "source": []
  },
  {
   "cell_type": "code",
   "execution_count": null,
   "id": "104fda4d",
   "metadata": {},
   "outputs": [],
   "source": []
  },
  {
   "cell_type": "code",
   "execution_count": null,
   "id": "c675335e",
   "metadata": {},
   "outputs": [],
   "source": []
  },
  {
   "cell_type": "code",
   "execution_count": null,
   "id": "04772dc8",
   "metadata": {},
   "outputs": [],
   "source": []
  },
  {
   "cell_type": "code",
   "execution_count": null,
   "id": "9c122f40",
   "metadata": {},
   "outputs": [],
   "source": []
  },
  {
   "cell_type": "code",
   "execution_count": null,
   "id": "bbd1cab0",
   "metadata": {},
   "outputs": [],
   "source": []
  },
  {
   "cell_type": "code",
   "execution_count": null,
   "id": "2e84bebb",
   "metadata": {},
   "outputs": [],
   "source": []
  },
  {
   "cell_type": "code",
   "execution_count": null,
   "id": "d0d8303a",
   "metadata": {},
   "outputs": [],
   "source": []
  },
  {
   "cell_type": "code",
   "execution_count": null,
   "id": "b8170dcc",
   "metadata": {},
   "outputs": [],
   "source": []
  },
  {
   "cell_type": "code",
   "execution_count": null,
   "id": "2af73443",
   "metadata": {},
   "outputs": [],
   "source": []
  },
  {
   "cell_type": "code",
   "execution_count": null,
   "id": "dd46324b",
   "metadata": {},
   "outputs": [],
   "source": []
  },
  {
   "cell_type": "code",
   "execution_count": null,
   "id": "cb4d430d",
   "metadata": {},
   "outputs": [],
   "source": []
  },
  {
   "cell_type": "code",
   "execution_count": null,
   "id": "a0b4b496",
   "metadata": {},
   "outputs": [],
   "source": []
  },
  {
   "cell_type": "code",
   "execution_count": null,
   "id": "bbb6274a",
   "metadata": {},
   "outputs": [],
   "source": []
  },
  {
   "cell_type": "code",
   "execution_count": null,
   "id": "6ba84a8f",
   "metadata": {},
   "outputs": [],
   "source": []
  },
  {
   "cell_type": "code",
   "execution_count": null,
   "id": "44f6d6e7",
   "metadata": {},
   "outputs": [],
   "source": []
  },
  {
   "cell_type": "code",
   "execution_count": null,
   "id": "2233e176",
   "metadata": {},
   "outputs": [],
   "source": []
  },
  {
   "cell_type": "code",
   "execution_count": null,
   "id": "8f99fa0a",
   "metadata": {},
   "outputs": [],
   "source": []
  },
  {
   "cell_type": "code",
   "execution_count": null,
   "id": "6e6ee7a9",
   "metadata": {},
   "outputs": [],
   "source": []
  },
  {
   "cell_type": "code",
   "execution_count": null,
   "id": "ff3098dd",
   "metadata": {},
   "outputs": [],
   "source": []
  },
  {
   "cell_type": "code",
   "execution_count": null,
   "id": "20b00014",
   "metadata": {},
   "outputs": [],
   "source": []
  },
  {
   "cell_type": "code",
   "execution_count": null,
   "id": "0b36a954",
   "metadata": {},
   "outputs": [],
   "source": []
  },
  {
   "cell_type": "code",
   "execution_count": null,
   "id": "9e78a710",
   "metadata": {},
   "outputs": [],
   "source": []
  },
  {
   "cell_type": "code",
   "execution_count": null,
   "id": "55237d5b",
   "metadata": {},
   "outputs": [],
   "source": []
  },
  {
   "cell_type": "code",
   "execution_count": null,
   "id": "71f5e7fb",
   "metadata": {},
   "outputs": [],
   "source": []
  },
  {
   "cell_type": "code",
   "execution_count": null,
   "id": "0ad67241",
   "metadata": {},
   "outputs": [],
   "source": []
  },
  {
   "cell_type": "code",
   "execution_count": null,
   "id": "987544ed",
   "metadata": {},
   "outputs": [],
   "source": []
  },
  {
   "cell_type": "code",
   "execution_count": null,
   "id": "a0e37ab2",
   "metadata": {},
   "outputs": [],
   "source": []
  },
  {
   "cell_type": "code",
   "execution_count": null,
   "id": "01bcaea9",
   "metadata": {},
   "outputs": [],
   "source": []
  },
  {
   "cell_type": "code",
   "execution_count": null,
   "id": "6a45a1cb",
   "metadata": {},
   "outputs": [],
   "source": []
  },
  {
   "cell_type": "code",
   "execution_count": null,
   "id": "1f30416e",
   "metadata": {},
   "outputs": [],
   "source": []
  },
  {
   "cell_type": "code",
   "execution_count": null,
   "id": "0a785bb9",
   "metadata": {},
   "outputs": [],
   "source": []
  },
  {
   "cell_type": "code",
   "execution_count": null,
   "id": "e7bd2180",
   "metadata": {},
   "outputs": [],
   "source": []
  },
  {
   "cell_type": "code",
   "execution_count": null,
   "id": "5b35a975",
   "metadata": {},
   "outputs": [],
   "source": []
  },
  {
   "cell_type": "code",
   "execution_count": null,
   "id": "ef4ff721",
   "metadata": {},
   "outputs": [],
   "source": []
  }
 ],
 "metadata": {
  "kernelspec": {
   "display_name": "Python 3 (ipykernel)",
   "language": "python",
   "name": "python3"
  },
  "language_info": {
   "codemirror_mode": {
    "name": "ipython",
    "version": 3
   },
   "file_extension": ".py",
   "mimetype": "text/x-python",
   "name": "python",
   "nbconvert_exporter": "python",
   "pygments_lexer": "ipython3",
   "version": "3.9.13"
  }
 },
 "nbformat": 4,
 "nbformat_minor": 5
}
